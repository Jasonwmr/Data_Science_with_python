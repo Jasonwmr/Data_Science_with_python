{
 "cells": [
  {
   "cell_type": "code",
   "execution_count": 6,
   "metadata": {},
   "outputs": [],
   "source": [
    "import requests\n",
    "from bs4 import BeautifulSoup\n",
    "import numpy as np\n",
    "import time\n",
    "import pandas as pd"
   ]
  },
  {
   "cell_type": "markdown",
   "metadata": {},
   "source": [
    "#### Conseguir url "
   ]
  },
  {
   "cell_type": "code",
   "execution_count": 7,
   "metadata": {},
   "outputs": [],
   "source": [
    "#funcion para para dar forma a url de cada serie\n",
    "def url_obt(x):\n",
    "    url_principal=\"http://www.sensacine.com\"\n",
    "    try :\n",
    "        y = url_principal+x.find('a').attrs['href']\n",
    "    except :\n",
    "        y = 'No hay'\n",
    "    return y"
   ]
  },
  {
   "cell_type": "code",
   "execution_count": 8,
   "metadata": {
    "scrolled": true
   },
   "outputs": [],
   "source": [
    "#almacenando los url de las series(de 321 pag.)\n",
    "urls=[]\n",
    "for i in range(1,321):  \n",
    "    url_tv = \"http://www.sensacine.com/series-tv/?page={}\".format(i)\n",
    "    resp = requests.get(url_tv)\n",
    "    soup = BeautifulSoup(resp.text, 'html.parser')\n",
    "    lista_series = soup.find_all('li',{'class':'hred'})\n",
    "    urls.extend(list(map(url_obt,lista_series)))\n",
    "#eliminar los no hay\n",
    "urls_array=np.array(urls)#4799\n",
    "urls_array_t = urls_array[urls_array!='No hay']\n",
    "urls=urls_array_t.tolist()#4797"
   ]
  },
  {
   "cell_type": "markdown",
   "metadata": {},
   "source": [
    "#### Scrapear cada pagina"
   ]
  },
  {
   "cell_type": "code",
   "execution_count": 9,
   "metadata": {},
   "outputs": [],
   "source": [
    "data_list = []\n",
    "for i in urls:\n",
    "    resp = requests.get(i)\n",
    "    soup = BeautifulSoup(resp.text, 'lxml')\n",
    "    tags_genero=soup.select('.meta-body-item.meta-body-info > span')[2:]\n",
    "    try :\n",
    "        sinopsis=soup.find('div',{'class':\"content-txt\"}).text\n",
    "    except :\n",
    "        sinopsis=''\n",
    "    genero_list = list(map(lambda x : x.text,tags_genero))\n",
    "    genero=\",\".join(genero_list)\n",
    "    fila = [soup.find('div',{'class':\"titlebar-title titlebar-title-lg\"}).text,\n",
    "            sinopsis,\n",
    "            genero]\n",
    "    data_list.append(fila)"
   ]
  },
  {
   "cell_type": "markdown",
   "metadata": {},
   "source": [
    "#### Dandole el formato de tabla"
   ]
  },
  {
   "cell_type": "code",
   "execution_count": 13,
   "metadata": {
    "scrolled": true
   },
   "outputs": [],
   "source": [
    "tabla_series_tv = pd.DataFrame(data_list,columns=['Titulo','Sinopsis','Genero'])"
   ]
  },
  {
   "cell_type": "code",
   "execution_count": 14,
   "metadata": {},
   "outputs": [],
   "source": [
    "#limpieza preliminar\n",
    "tabla_series_tv = tabla_series_tv.assign(Sinopsis = lambda x : x.Sinopsis.replace('\\n',' ').str.strip())"
   ]
  },
  {
   "cell_type": "code",
   "execution_count": 15,
   "metadata": {
    "scrolled": true
   },
   "outputs": [
    {
     "data": {
      "text/html": [
       "<div>\n",
       "<style scoped>\n",
       "    .dataframe tbody tr th:only-of-type {\n",
       "        vertical-align: middle;\n",
       "    }\n",
       "\n",
       "    .dataframe tbody tr th {\n",
       "        vertical-align: top;\n",
       "    }\n",
       "\n",
       "    .dataframe thead th {\n",
       "        text-align: right;\n",
       "    }\n",
       "</style>\n",
       "<table border=\"1\" class=\"dataframe\">\n",
       "  <thead>\n",
       "    <tr style=\"text-align: right;\">\n",
       "      <th></th>\n",
       "      <th>Titulo</th>\n",
       "      <th>Sinopsis</th>\n",
       "      <th>Genero</th>\n",
       "    </tr>\n",
       "  </thead>\n",
       "  <tbody>\n",
       "    <tr>\n",
       "      <th>0</th>\n",
       "      <td>#Cartel</td>\n",
       "      <td>#Cartel es una serie dramática de televisión d...</td>\n",
       "      <td>Judicial</td>\n",
       "    </tr>\n",
       "    <tr>\n",
       "      <th>1</th>\n",
       "      <td>'Allo 'Allo</td>\n",
       "      <td>La vida es cualquier cosa menos simple para Re...</td>\n",
       "      <td>Comedia</td>\n",
       "    </tr>\n",
       "    <tr>\n",
       "      <th>2</th>\n",
       "      <td>(Des)encanto</td>\n",
       "      <td>(Des)encanto es una comedia de animación para ...</td>\n",
       "      <td>Fantasía,Animación</td>\n",
       "    </tr>\n",
       "    <tr>\n",
       "      <th>3</th>\n",
       "      <td>+ De 100 Mentiras</td>\n",
       "      <td>+ De 100 Mentiras narra la historia de un hack...</td>\n",
       "      <td>Suspense</td>\n",
       "    </tr>\n",
       "    <tr>\n",
       "      <th>4</th>\n",
       "      <td>10</td>\n",
       "      <td></td>\n",
       "      <td>Drama</td>\n",
       "    </tr>\n",
       "    <tr>\n",
       "      <th>5</th>\n",
       "      <td>10 Razones para odiarte</td>\n",
       "      <td>En el colegio Padua High, las hermanas Kat y B...</td>\n",
       "      <td>Comedia</td>\n",
       "    </tr>\n",
       "    <tr>\n",
       "      <th>6</th>\n",
       "      <td>10 Years</td>\n",
       "      <td></td>\n",
       "      <td>Comedia</td>\n",
       "    </tr>\n",
       "    <tr>\n",
       "      <th>7</th>\n",
       "      <td>100 Code</td>\n",
       "      <td>Tommy Conley es un detective de homicidios de ...</td>\n",
       "      <td>Drama,Crimen,Suspense</td>\n",
       "    </tr>\n",
       "    <tr>\n",
       "      <th>8</th>\n",
       "      <td>100 Questions for Charlotte Payne</td>\n",
       "      <td>Charlotte, una jovenzuela en busca del amor qu...</td>\n",
       "      <td>Comedia</td>\n",
       "    </tr>\n",
       "    <tr>\n",
       "      <th>9</th>\n",
       "      <td>1000 maneras de morir</td>\n",
       "      <td>'1000 maneras de morir' es una serie antológic...</td>\n",
       "      <td>Comedia,Documental</td>\n",
       "    </tr>\n",
       "  </tbody>\n",
       "</table>\n",
       "</div>"
      ],
      "text/plain": [
       "                              Titulo  \\\n",
       "0                            #Cartel   \n",
       "1                        'Allo 'Allo   \n",
       "2                       (Des)encanto   \n",
       "3                  + De 100 Mentiras   \n",
       "4                                 10   \n",
       "5            10 Razones para odiarte   \n",
       "6                           10 Years   \n",
       "7                           100 Code   \n",
       "8  100 Questions for Charlotte Payne   \n",
       "9              1000 maneras de morir   \n",
       "\n",
       "                                            Sinopsis                 Genero  \n",
       "0  #Cartel es una serie dramática de televisión d...               Judicial  \n",
       "1  La vida es cualquier cosa menos simple para Re...                Comedia  \n",
       "2  (Des)encanto es una comedia de animación para ...     Fantasía,Animación  \n",
       "3  + De 100 Mentiras narra la historia de un hack...               Suspense  \n",
       "4                                                                     Drama  \n",
       "5  En el colegio Padua High, las hermanas Kat y B...                Comedia  \n",
       "6                                                                   Comedia  \n",
       "7  Tommy Conley es un detective de homicidios de ...  Drama,Crimen,Suspense  \n",
       "8  Charlotte, una jovenzuela en busca del amor qu...                Comedia  \n",
       "9  '1000 maneras de morir' es una serie antológic...     Comedia,Documental  "
      ]
     },
     "execution_count": 15,
     "metadata": {},
     "output_type": "execute_result"
    }
   ],
   "source": [
    "tabla_series_tv.head(10)"
   ]
  },
  {
   "cell_type": "code",
   "execution_count": 16,
   "metadata": {},
   "outputs": [],
   "source": [
    "#guardando en la carpeta datos\n",
    "tabla_series_tv.to_csv(\"../datos/tablas_series_tv.csv\",sep=\";\")"
   ]
  },
  {
   "cell_type": "code",
   "execution_count": null,
   "metadata": {},
   "outputs": [],
   "source": []
  }
 ],
 "metadata": {
  "kernelspec": {
   "display_name": "Python 3",
   "language": "python",
   "name": "python3"
  },
  "language_info": {
   "codemirror_mode": {
    "name": "ipython",
    "version": 3
   },
   "file_extension": ".py",
   "mimetype": "text/x-python",
   "name": "python",
   "nbconvert_exporter": "python",
   "pygments_lexer": "ipython3",
   "version": "3.6.5"
  }
 },
 "nbformat": 4,
 "nbformat_minor": 2
}
